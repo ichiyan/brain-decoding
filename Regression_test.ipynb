{
  "nbformat": 4,
  "nbformat_minor": 0,
  "metadata": {
    "colab": {
      "provenance": [],
      "authorship_tag": "ABX9TyPTWT3PYME2Lp6v9kWtgjF9",
      "include_colab_link": true
    },
    "kernelspec": {
      "name": "python3",
      "display_name": "Python 3"
    },
    "language_info": {
      "name": "python"
    }
  },
  "cells": [
    {
      "cell_type": "markdown",
      "metadata": {
        "id": "view-in-github",
        "colab_type": "text"
      },
      "source": [
        "<a href=\"https://colab.research.google.com/github/ichiyan/brain-decoding/blob/master/Regression_test.ipynb\" target=\"_parent\"><img src=\"https://colab.research.google.com/assets/colab-badge.svg\" alt=\"Open In Colab\"/></a>"
      ]
    },
    {
      "cell_type": "code",
      "execution_count": 2,
      "metadata": {
        "colab": {
          "base_uri": "https://localhost:8080/"
        },
        "id": "EWKvkKtQ_zke",
        "outputId": "07bfd7db-79c8-427c-d640-fc7bfc8e42d6"
      },
      "outputs": [
        {
          "output_type": "stream",
          "name": "stdout",
          "text": [
            "Cloning into 'brain-decoding'...\n",
            "remote: Enumerating objects: 323, done.\u001b[K\n",
            "remote: Counting objects:   0% (1/323)\u001b[K\rremote: Counting objects:   1% (4/323)\u001b[K\rremote: Counting objects:   2% (7/323)\u001b[K\rremote: Counting objects:   3% (10/323)\u001b[K\rremote: Counting objects:   4% (13/323)\u001b[K\rremote: Counting objects:   5% (17/323)\u001b[K\rremote: Counting objects:   6% (20/323)\u001b[K\rremote: Counting objects:   7% (23/323)\u001b[K\rremote: Counting objects:   8% (26/323)\u001b[K\rremote: Counting objects:   9% (30/323)\u001b[K\rremote: Counting objects:  10% (33/323)\u001b[K\rremote: Counting objects:  11% (36/323)\u001b[K\rremote: Counting objects:  12% (39/323)\u001b[K\rremote: Counting objects:  13% (42/323)\u001b[K\rremote: Counting objects:  14% (46/323)\u001b[K\rremote: Counting objects:  15% (49/323)\u001b[K\rremote: Counting objects:  16% (52/323)\u001b[K\rremote: Counting objects:  17% (55/323)\u001b[K\rremote: Counting objects:  18% (59/323)\u001b[K\rremote: Counting objects:  19% (62/323)\u001b[K\rremote: Counting objects:  20% (65/323)\u001b[K\rremote: Counting objects:  21% (68/323)\u001b[K\rremote: Counting objects:  22% (72/323)\u001b[K\rremote: Counting objects:  23% (75/323)\u001b[K\rremote: Counting objects:  24% (78/323)\u001b[K\rremote: Counting objects:  25% (81/323)\u001b[K\rremote: Counting objects:  26% (84/323)\u001b[K\rremote: Counting objects:  27% (88/323)\u001b[K\rremote: Counting objects:  28% (91/323)\u001b[K\rremote: Counting objects:  29% (94/323)\u001b[K\rremote: Counting objects:  30% (97/323)\u001b[K\rremote: Counting objects:  31% (101/323)\u001b[K\rremote: Counting objects:  32% (104/323)\u001b[K\rremote: Counting objects:  33% (107/323)\u001b[K\rremote: Counting objects:  34% (110/323)\u001b[K\rremote: Counting objects:  35% (114/323)\u001b[K\rremote: Counting objects:  36% (117/323)\u001b[K\rremote: Counting objects:  37% (120/323)\u001b[K\rremote: Counting objects:  38% (123/323)\u001b[K\rremote: Counting objects:  39% (126/323)\u001b[K\rremote: Counting objects:  40% (130/323)\u001b[K\rremote: Counting objects:  41% (133/323)\u001b[K\rremote: Counting objects:  42% (136/323)\u001b[K\rremote: Counting objects:  43% (139/323)\u001b[K\rremote: Counting objects:  44% (143/323)\u001b[K\rremote: Counting objects:  45% (146/323)\u001b[K\rremote: Counting objects:  46% (149/323)\u001b[K\rremote: Counting objects:  47% (152/323)\u001b[K\rremote: Counting objects:  48% (156/323)\u001b[K\rremote: Counting objects:  49% (159/323)\u001b[K\rremote: Counting objects:  50% (162/323)\u001b[K\rremote: Counting objects:  51% (165/323)\u001b[K\rremote: Counting objects:  52% (168/323)\u001b[K\rremote: Counting objects:  53% (172/323)\u001b[K\rremote: Counting objects:  54% (175/323)\u001b[K\rremote: Counting objects:  55% (178/323)\u001b[K\rremote: Counting objects:  56% (181/323)\u001b[K\rremote: Counting objects:  57% (185/323)\u001b[K\rremote: Counting objects:  58% (188/323)\u001b[K\rremote: Counting objects:  59% (191/323)\u001b[K\rremote: Counting objects:  60% (194/323)\u001b[K\rremote: Counting objects:  61% (198/323)\u001b[K\rremote: Counting objects:  62% (201/323)\u001b[K\rremote: Counting objects:  63% (204/323)\u001b[K\rremote: Counting objects:  64% (207/323)\u001b[K\rremote: Counting objects:  65% (210/323)\u001b[K\rremote: Counting objects:  66% (214/323)\u001b[K\rremote: Counting objects:  67% (217/323)\u001b[K\rremote: Counting objects:  68% (220/323)\u001b[K\rremote: Counting objects:  69% (223/323)\u001b[K\rremote: Counting objects:  70% (227/323)\u001b[K\rremote: Counting objects:  71% (230/323)\u001b[K\rremote: Counting objects:  72% (233/323)\u001b[K\rremote: Counting objects:  73% (236/323)\u001b[K\rremote: Counting objects:  74% (240/323)\u001b[K\rremote: Counting objects:  75% (243/323)\u001b[K\rremote: Counting objects:  76% (246/323)\u001b[K\rremote: Counting objects:  77% (249/323)\u001b[K\rremote: Counting objects:  78% (252/323)\u001b[K\rremote: Counting objects:  79% (256/323)\u001b[K\rremote: Counting objects:  80% (259/323)\u001b[K\rremote: Counting objects:  81% (262/323)\u001b[K\rremote: Counting objects:  82% (265/323)\u001b[K\rremote: Counting objects:  83% (269/323)\u001b[K\rremote: Counting objects:  84% (272/323)\u001b[K\rremote: Counting objects:  85% (275/323)\u001b[K\rremote: Counting objects:  86% (278/323)\u001b[K\rremote: Counting objects:  87% (282/323)\u001b[K\rremote: Counting objects:  88% (285/323)\u001b[K\rremote: Counting objects:  89% (288/323)\u001b[K\rremote: Counting objects:  90% (291/323)\u001b[K\rremote: Counting objects:  91% (294/323)\u001b[K\rremote: Counting objects:  92% (298/323)\u001b[K\rremote: Counting objects:  93% (301/323)\u001b[K\rremote: Counting objects:  94% (304/323)\u001b[K\rremote: Counting objects:  95% (307/323)\u001b[K\rremote: Counting objects:  96% (311/323)\u001b[K\rremote: Counting objects:  97% (314/323)\u001b[K\rremote: Counting objects:  98% (317/323)\u001b[K\rremote: Counting objects:  99% (320/323)\u001b[K\rremote: Counting objects: 100% (323/323)\u001b[K\rremote: Counting objects: 100% (323/323), done.\u001b[K\n",
            "remote: Compressing objects: 100% (246/246), done.\u001b[K\n",
            "remote: Total 323 (delta 62), reused 319 (delta 58), pack-reused 0\u001b[K\n",
            "Receiving objects: 100% (323/323), 13.18 MiB | 29.27 MiB/s, done.\n",
            "Resolving deltas: 100% (62/62), done.\n"
          ]
        }
      ],
      "source": [
        "!git clone https://github.com/ichiyan/brain-decoding.git"
      ]
    },
    {
      "cell_type": "code",
      "source": [
        "import sys\n",
        "sys.path.append('vdvae')\n",
        "import torch\n",
        "import numpy as np\n",
        "#from mpi4py import MPI\n",
        "import socket\n",
        "import argparse\n",
        "import os\n",
        "import json\n",
        "import subprocess"
      ],
      "metadata": {
        "id": "ai2IDTOCBkji"
      },
      "execution_count": null,
      "outputs": []
    },
    {
      "cell_type": "code",
      "source": [],
      "metadata": {
        "id": "_XRgEqGjCG84"
      },
      "execution_count": null,
      "outputs": []
    }
  ]
}